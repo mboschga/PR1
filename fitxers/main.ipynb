{
 "cells": [
  {
   "cell_type": "code",
   "execution_count": null,
   "metadata": {},
   "outputs": [],
   "source": [
    "# Programa principal per fer el web scraping de la web FormulaTV\n",
    "\n",
    "# Aconseguim les audiencies per dia\n",
    "## Fem servir la data sencera\n",
    "\n",
    "# Per mes\n",
    "# Fem un bucle per trobar les audiencies d'aquell mes\n",
    "# Construim la URL\n",
    "# EXEMPLE\n",
    "url = 'https://www.formulatv.com/audiencias/2020-03-27/'\n",
    "# Iterem el dia, i fem fixe \n",
    "# Camps any, mes i dia per aquest ordre\n",
    "\n",
    "# pdconcat sense axis, concatena colocant cada dia un a sota de l'altre.\n",
    "\n",
    "# Per any\n",
    "# Dos bucles, per dia i per mes\n",
    "# Concatenem per cronologia\n",
    "\n",
    "\n",
    "# Finalment, exportem el dataframe com a fitxer CVS\n",
    "# Resoldre si creem un fitxer nou o si fem un mai que obri un fitxer i afegeixi un mes nou"
   ]
  }
 ],
 "metadata": {
  "kernelspec": {
   "display_name": "Python 3",
   "language": "python",
   "name": "python3"
  },
  "language_info": {
   "codemirror_mode": {
    "name": "ipython",
    "version": 3
   },
   "file_extension": ".py",
   "mimetype": "text/x-python",
   "name": "python",
   "nbconvert_exporter": "python",
   "pygments_lexer": "ipython3",
   "version": "3.7.4"
  }
 },
 "nbformat": 4,
 "nbformat_minor": 2
}
