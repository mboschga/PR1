{
 "cells": [
  {
   "cell_type": "code",
   "execution_count": 1,
   "metadata": {},
   "outputs": [],
   "source": [
    "import os\n",
    "import requests\n",
    "import csv\n",
    "import re\n",
    "import datetime, calendar\n",
    "from datetime import timedelta\n",
    "from bs4 import BeautifulSoup\n",
    "import pandas as pd\n",
    "\n"
   ]
  },
  {
   "cell_type": "code",
   "execution_count": 2,
   "metadata": {},
   "outputs": [],
   "source": [
    "# Funció per fer el dataframe d'un mes\n",
    "def __audiencia_del_mes(anyo, mes):\n",
    "    \"\"\"DOCSTRING_DE_FUNCION\"\"\"\n",
    "    \n",
    "    data = pd.DataFrame(columns=('Audiencia', 'Cadena', 'Dia', 'Mes','Año'))\n",
    "    \n",
    "    year = anyo\n",
    "    month = mes\n",
    "\n",
    "    num_days = calendar.monthrange(year, month)[1]\n",
    "    days = [datetime.date(year, month, day) for day in range(1, num_days+1)]\n",
    "    for day in days: \n",
    "        fecha = day.strftime('%Y-%m-%d')\n",
    "        url = 'https://www.formulatv.com/audiencias/'+fecha\n",
    "        req = requests.get(url, timeout=10)\n",
    "        soup = BeautifulSoup(req.text, \"lxml\")\n",
    "\n",
    "        # Busquem els ul\n",
    "        ul = soup.h1.find_next_sibling(\"ul\")\n",
    "        cadenas1 = (\" \".join([img['alt'] for img in ul.find_all('img', alt=True)]))\n",
    "        cadenas1 = re.sub(re.compile('logo'),\"\",cadenas1)\n",
    "\n",
    "        # Ho passem a llista\n",
    "        cadenas1 = cadenas1.split(\" \")\n",
    "        # Treiem el percentatges, és a dir, el text de cada li\n",
    "        # Escollim posar un espai com a separador\n",
    "\n",
    "        audiencias1 = ul.get_text(' ', strip=True)\n",
    "        # Ho passem a llista\n",
    "        audiencias1 = audiencias1.split(\" \")\n",
    "        \n",
    "        audiencias = pd.DataFrame(audiencias1, columns=['Audiencia'])\n",
    "        cadenas = pd.DataFrame(cadenas1, columns=['Cadena'])\n",
    "\n",
    "        df = pd.concat([cadenas, audiencias], axis=1, sort=False) \n",
    "        df[\"Dia\"] = day.strftime('%d')\n",
    "        df[\"Mes\"] = day.strftime('%m')\n",
    "        df[\"Año\"] = day.strftime('%Y')\n",
    "        \n",
    "        data = pd.concat([data, df]) \n",
    "    \n",
    "    return data"
   ]
  },
  {
   "cell_type": "code",
   "execution_count": 3,
   "metadata": {},
   "outputs": [
    {
     "name": "stderr",
     "output_type": "stream",
     "text": [
      "C:\\Users\\lula-\\Anaconda3\\lib\\site-packages\\ipykernel_launcher.py:40: FutureWarning: Sorting because non-concatenation axis is not aligned. A future version\n",
      "of pandas will change to not sort by default.\n",
      "\n",
      "To accept the future behavior, pass 'sort=False'.\n",
      "\n",
      "To retain the current behavior and silence the warning, pass 'sort=True'.\n",
      "\n",
      "C:\\Users\\lula-\\Anaconda3\\lib\\site-packages\\ipykernel_launcher.py:8: FutureWarning: Sorting because non-concatenation axis is not aligned. A future version\n",
      "of pandas will change to not sort by default.\n",
      "\n",
      "To accept the future behavior, pass 'sort=False'.\n",
      "\n",
      "To retain the current behavior and silence the warning, pass 'sort=True'.\n",
      "\n",
      "  \n"
     ]
    }
   ],
   "source": [
    "data_1Q_2019 = pd.DataFrame(columns=('Audiencia', 'Cadena', 'Dia', 'Mes','Año'))\n",
    "\n",
    "year=2019\n",
    "\n",
    "# 1er Quatrimestre\n",
    "for new_month in range(1, 5):\n",
    "    df = __audiencia_del_mes(year, new_month)\n",
    "    data_1Q_2019  = pd.concat([data_1Q_2019, df]) \n"
   ]
  },
  {
   "cell_type": "code",
   "execution_count": 7,
   "metadata": {},
   "outputs": [
    {
     "name": "stdout",
     "output_type": "stream",
     "text": [
      "      index Audiencia   Año          Cadena Dia Mes\n",
      "0         0     15,9%  2019             la1  01  01\n",
      "1         1     14,2%  2019         antena3  01  01\n",
      "2         2      9,1%  2019       telecinco  01  01\n",
      "3         3      5,3%  2019          cuatro  01  01\n",
      "4         4      5,0%  2019         lasexta  01  01\n",
      "...     ...       ...   ...             ...  ..  ..\n",
      "3090     21      0,8%  2019  gol-television  30  04\n",
      "3091     22      0,5%  2019             ten  30  04\n",
      "3092     23      0,4%  2019         bemadtv  30  04\n",
      "3093     24      0,3%  2019     teledeporte  30  04\n",
      "3094     25      0,2%  2019  real-madrid-tv  30  04\n",
      "\n",
      "[3095 rows x 6 columns]\n"
     ]
    }
   ],
   "source": [
    "# Reset Index\n",
    "\n",
    "data_1Q_2019 = data_1Q_2019.reset_index()\n",
    "# Fitxer\n",
    "\n",
    "local_url = r'C:\\Users\\lula-\\Documents\\UOC Data Science\\Tipologia\\export_1Q_year_'+str(year)+'.csv'\n",
    "data_1Q_2019.to_csv (local_url, index = False, header=True)"
   ]
  },
  {
   "cell_type": "code",
   "execution_count": null,
   "metadata": {},
   "outputs": [],
   "source": []
  }
 ],
 "metadata": {
  "kernelspec": {
   "display_name": "Python 3",
   "language": "python",
   "name": "python3"
  },
  "language_info": {
   "codemirror_mode": {
    "name": "ipython",
    "version": 3
   },
   "file_extension": ".py",
   "mimetype": "text/x-python",
   "name": "python",
   "nbconvert_exporter": "python",
   "pygments_lexer": "ipython3",
   "version": "3.7.4"
  }
 },
 "nbformat": 4,
 "nbformat_minor": 2
}
