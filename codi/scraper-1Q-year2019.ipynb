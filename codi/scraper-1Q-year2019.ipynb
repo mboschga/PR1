{
 "cells": [
  {
   "cell_type": "code",
   "execution_count": 1,
   "metadata": {},
   "outputs": [],
   "source": [
    "# Llibreries que farem servir\n",
    "import os\n",
    "import requests\n",
    "import csv\n",
    "import re\n",
    "import datetime, calendar\n",
    "from datetime import timedelta\n",
    "from bs4 import BeautifulSoup\n",
    "import pandas as pd\n",
    "\n"
   ]
  },
  {
   "cell_type": "code",
   "execution_count": 2,
   "metadata": {},
   "outputs": [],
   "source": [
    "# Funció per fer el dataframe d'un mes\n",
    "def __audiencia_del_mes(anyo, mes):\n",
    "    \"\"\"Registre de la audiencia del mes de l'any indicat\"\"\"\n",
    "    \n",
    "    # dataframe on acumularem un mes\n",
    "    data = pd.DataFrame(columns=('Audiencia', 'Cadena', 'Dia', 'Mes','Any'))\n",
    "    \n",
    "    # Interval temporal que farem servir\n",
    "    year = anyo\n",
    "    month = mes\n",
    "\n",
    "    # Càlcul del calendari\n",
    "    num_days = calendar.monthrange(year, month)[1]\n",
    "    days = [datetime.date(year, month, day) for day in range(1, num_days+1)]\n",
    "    \n",
    "    # Extracció de les dades \n",
    "    for day in days: \n",
    "        # Reconstuim la data de la url per dia\n",
    "        fecha = day.strftime('%Y-%m-%d')\n",
    "        url = 'https://www.formulatv.com/audiencias/' + fecha\n",
    "        \n",
    "        # Fem el request de l'script de la pàrgina de la web \n",
    "        req = requests.get(url, timeout=10)\n",
    "        soup = BeautifulSoup(req.text, \"lxml\")\n",
    "\n",
    "        # Busquem els elements \"ul\" \n",
    "        ul = soup.h1.find_next_sibling(\"ul\")\n",
    "        cadenas1 = (\" \".join([img['alt'] for img in ul.find_all('img', alt=True)]))\n",
    "        cadenas1 = re.sub(re.compile('logo'),\"\",cadenas1)\n",
    "\n",
    "        # Ho passem a llista\n",
    "        cadenas1 = cadenas1.split(\" \")\n",
    "        \n",
    "        # Treiem el percentatges, és a dir, el text de cada \"li\"\n",
    "        # Escollim posar un espai com a separador\n",
    "        audiencias1 = ul.get_text(' ', strip=True)\n",
    "        \n",
    "        # Ho passem a llista\n",
    "        audiencias1 = audiencias1.split(\" \")\n",
    "        \n",
    "        # Aquestes llistes seran les columnes del nostre dataframse\n",
    "        audiencias = pd.DataFrame(audiencias1, columns=['Audiencia'])\n",
    "        cadenas = pd.DataFrame(cadenas1, columns=['Cadena'])\n",
    "\n",
    "        # Afegim la informació temporal separada\n",
    "        # D'aquesta forma ens serà més fàcil posteriorment tractar-la\n",
    "        df = pd.concat([cadenas, audiencias], axis=1, sort=False) \n",
    "        df[\"Dia\"] = day.strftime('%d')\n",
    "        df[\"Mes\"] = day.strftime('%m')\n",
    "        df[\"Any\"] = day.strftime('%Y')\n",
    "        \n",
    "        data = pd.concat([data, df], sort=False) \n",
    "    \n",
    "    return data"
   ]
  },
  {
   "cell_type": "code",
   "execution_count": 3,
   "metadata": {},
   "outputs": [],
   "source": [
    "# Iniciatlitzem el data frame\n",
    "data_1Q_2019 = pd.DataFrame(columns=('Audiencia', 'Cadena', 'Dia', 'Mes','Any'))\n",
    "\n",
    "# Escollim l'any\n",
    "year = 2019\n",
    "\n",
    "# 1er Quatrimestre\n",
    "for new_month in range(1, 5):\n",
    "    df = __audiencia_del_mes(year, new_month)\n",
    "    data_1Q_2019  = pd.concat([data_1Q_2019, df], sort=False) \n"
   ]
  },
  {
   "cell_type": "code",
   "execution_count": 11,
   "metadata": {},
   "outputs": [],
   "source": [
    "# Reordenem les columnes\n",
    "data_1Q_2019 = data_1Q_2019[['Audiencia', 'Cadena', 'Dia', 'Mes','Any']]\n",
    "\n",
    "# Reiniciem el índex\n",
    "data_1Q_2019 = data_1Q_2019.reset_index()\n",
    "\n",
    "# Renombrem la columna on tindrem el ranking diari\n",
    "data_1Q_2019 = data_1Q_2019.rename(columns={'index': 'Ranking diari'})\n",
    "\n",
    "# Volquem el dataframe en un fitxer CSV\n",
    "# Construim l'adreça on s'emmagatzemarà la informació\n",
    "cwd = os.getcwd()\n",
    "local_path = cwd + '\\export_1Q_year_'+str(year) + '.csv'\n",
    "data_1Q_2019.to_csv (local_path, index = False, header=True)\n"
   ]
  }
 ],
 "metadata": {
  "kernelspec": {
   "display_name": "Python 3",
   "language": "python",
   "name": "python3"
  },
  "language_info": {
   "codemirror_mode": {
    "name": "ipython",
    "version": 3
   },
   "file_extension": ".py",
   "mimetype": "text/x-python",
   "name": "python",
   "nbconvert_exporter": "python",
   "pygments_lexer": "ipython3",
   "version": "3.7.4"
  }
 },
 "nbformat": 4,
 "nbformat_minor": 2
}
