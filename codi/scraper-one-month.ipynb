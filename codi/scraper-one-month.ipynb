{
 "cells": [
  {
   "cell_type": "code",
   "execution_count": 1,
   "metadata": {},
   "outputs": [],
   "source": [
    "import os\n",
    "import requests\n",
    "import csv\n",
    "import argparse\n",
    "import re\n",
    "from datetime import datetime\n",
    "from datetime import timedelta\n",
    "from bs4 import BeautifulSoup\n",
    "import pandas as pd\n",
    "import datetime, calendar\n"
   ]
  },
  {
   "cell_type": "code",
   "execution_count": 2,
   "metadata": {},
   "outputs": [],
   "source": [
    "# Funció per fer el dataframe d'un mes\n",
    "def __audiencia_del_mes(mes):\n",
    "    \"\"\"DOCSTRING_DE_FUNCION\"\"\"\n",
    "    \n",
    "    data = pd.DataFrame(columns=('Audiencia', 'Cadena', 'Fecha'))\n",
    "    \n",
    "    year = 2020\n",
    "    month = mes\n",
    "\n",
    "    num_days = calendar.monthrange(year, month)[1]\n",
    "    days = [datetime.date(year, month, day) for day in range(1, num_days+1)]\n",
    "    for day in days: \n",
    "        fecha = day.strftime('%Y-%m-%d')\n",
    "        url = 'https://www.formulatv.com/audiencias/'+fecha\n",
    "        req = requests.get(url)\n",
    "        soup = BeautifulSoup(req.text, \"lxml\")\n",
    "\n",
    "        # Busquem els ul\n",
    "        ul = soup.h1.find_next_sibling(\"ul\")\n",
    "        cadenas1 = (\" \".join([img['alt'] for img in ul.find_all('img', alt=True)]))\n",
    "        cadenas1 = re.sub(re.compile('logo'),\"\",cadenas1)\n",
    "\n",
    "        # Ho passem a llista\n",
    "        cadenas1 = cadenas1.split(\" \")\n",
    "        # Treiem el percentatges, és a dir, el text de cada li\n",
    "        # Escollim posar un espai com a separador\n",
    "\n",
    "        audiencias1 = ul.get_text(' ', strip=True)\n",
    "        # Ho passem a llista\n",
    "        audiencias1 = audiencias1.split(\" \")\n",
    "        \n",
    "        audiencias = pd.DataFrame(audiencias1, columns=['Audiencia'])\n",
    "        cadenas = pd.DataFrame(cadenas1, columns=['Cadena'])\n",
    "\n",
    "        df = pd.concat([cadenas, audiencias], axis=1, sort=False) \n",
    "        df[\"Fecha\"] = day\n",
    "        \n",
    "        data = pd.concat([data, df]) \n",
    "    \n",
    "    return data"
   ]
  },
  {
   "cell_type": "code",
   "execution_count": 3,
   "metadata": {},
   "outputs": [
    {
     "name": "stderr",
     "output_type": "stream",
     "text": [
      "C:\\Users\\lula-\\Anaconda3\\lib\\site-packages\\ipykernel_launcher.py:38: FutureWarning: Sorting because non-concatenation axis is not aligned. A future version\n",
      "of pandas will change to not sort by default.\n",
      "\n",
      "To accept the future behavior, pass 'sort=False'.\n",
      "\n",
      "To retain the current behavior and silence the warning, pass 'sort=True'.\n",
      "\n"
     ]
    },
    {
     "name": "stdout",
     "output_type": "stream",
     "text": [
      "   Audiencia          Cadena       Fecha\n",
      "0      14,9%             la1  2020-01-01\n",
      "1      11,6%         antena3  2020-01-01\n",
      "2      10,3%       telecinco  2020-01-01\n",
      "3       5,8%          cuatro  2020-01-01\n",
      "4       4,7%         lasexta  2020-01-01\n",
      "..       ...             ...         ...\n",
      "21      0,7%  disney-channel  2020-01-31\n",
      "22      0,7%             ten  2020-01-31\n",
      "23      0,5%         bemadtv  2020-01-31\n",
      "24      0,3%  real-madrid-tv  2020-01-31\n",
      "25      0,2%     teledeporte  2020-01-31\n",
      "\n",
      "[806 rows x 3 columns]\n"
     ]
    }
   ],
   "source": [
    "new_month = 1\n",
    "new_data = __audiencia_del_mes(new_month)\n",
    "\n",
    "local_url = r'C:\\Users\\lula-\\Documents\\UOC Data Science\\Tipologia\\export_month_'+str(new_month)+'.csv'\n",
    "new_data.to_csv (local_url, index = False, header=True)\n",
    "\n",
    "print (new_data)"
   ]
  },
  {
   "cell_type": "code",
   "execution_count": null,
   "metadata": {},
   "outputs": [],
   "source": []
  }
 ],
 "metadata": {
  "kernelspec": {
   "display_name": "Python 3",
   "language": "python",
   "name": "python3"
  },
  "language_info": {
   "codemirror_mode": {
    "name": "ipython",
    "version": 3
   },
   "file_extension": ".py",
   "mimetype": "text/x-python",
   "name": "python",
   "nbconvert_exporter": "python",
   "pygments_lexer": "ipython3",
   "version": "3.7.4"
  }
 },
 "nbformat": 4,
 "nbformat_minor": 2
}
